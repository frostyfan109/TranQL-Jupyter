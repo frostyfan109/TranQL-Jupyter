{
 "cells": [
  {
   "cell_type": "code",
   "execution_count": 1,
   "metadata": {},
   "outputs": [],
   "source": [
    "from tranql_jupyter.tranql_response import KnowledgeGraph"
   ]
  },
  {
   "cell_type": "code",
   "execution_count": 2,
   "metadata": {},
   "outputs": [],
   "source": [
    "mock1 = KnowledgeGraph.mock1()\n",
    "mock1.graph_name = \"Mock 1\"\n",
    "\n",
    "mock2 = KnowledgeGraph.mock2()\n",
    "mock2.graph_name = \"Mock 2\""
   ]
  },
  {
   "cell_type": "code",
   "execution_count": 72,
   "metadata": {
    "scrolled": false
   },
   "outputs": [
    {
     "data": {
      "text/html": [
       "\n",
       "<div class=\"force-graph-20 title-container\"></div>\n",
       "<div class=\"force-graph-20 graph-container\"></div>\n",
       "<style>\n",
       ".force-graph-20 canvas {\n",
       "    width: 100% !important;\n",
       "    border: 1px solid gray;\n",
       "}\n",
       "</style>\n",
       "<script>\n",
       "require(['https://unpkg.com/force-graph', 'https://cdn.jsdelivr.net/npm/element-resize-detector@1.2.1/dist/element-resize-detector.min.js'], function(ForceGraph, resizeMaker) {\n",
       "    const data = {\"nodes\": [{\"id\": \"CHEMBL.COMPOUND:CHEMBL2397309\", \"name\": \"CHEMBL2397309\"}, {\"id\": \"CHEBI:90682\", \"name\": \"torin 2\"}, {\"id\": \"NCBIGene:9138\", \"name\": \"ARHGEF1\"}, {\"id\": \"CHEBI:15996\", \"name\": \"GTP\"}, {\"id\": \"CHEMBL.COMPOUND:CHEMBL2407818\", \"name\": \"CHEMBL2407818\"}, {\"id\": \"CHEBI:4737\", \"name\": \"N-ethylphenylacetamide\"}, {\"id\": \"NCBIGene:5817\", \"name\": \"PVR\"}, {\"id\": \"CHEBI:3385\", \"name\": \"carbachol\"}, {\"id\": \"CHEBI:32509\", \"name\": \"pirinixic acid\"}, {\"id\": \"CHEBI:44185\", \"name\": \"methotrexate\"}, {\"id\": \"NCBIGene:973\", \"name\": \"CD79A\"}, {\"id\": \"CHEBI:52289\", \"name\": \"wortmannin\"}, {\"id\": \"CHEBI:15422\", \"name\": \"ATP\"}, {\"id\": \"CHEBI:39548\", \"name\": \"atorvastatin\"}, {\"id\": \"CHEBI:53444\", \"name\": \"potassium dichromate\"}, {\"id\": \"CHEBI:5607\", \"name\": \"hallactone B\"}, {\"id\": \"CHEMBL.COMPOUND:CHEMBL1241578\", \"name\": \"CHEMBL1241578\"}, {\"id\": \"MESH:D002945\", \"name\": \"Cisplatin\"}, {\"id\": \"CHEBI:6410\", \"name\": \"Leontiformine\"}, {\"id\": \"CHEBI:3763\", \"name\": \"clorgyline\"}, {\"id\": \"CHEBI:207229\", \"name\": \"dihydroartemisinin\"}, {\"id\": \"NCBIGene:8570\", \"name\": \"KHSRP\"}, {\"id\": \"CHEBI:13643\", \"name\": \"glycol\"}, {\"id\": \"CHEBI:17345\", \"name\": \"guanosine 5'-monophosphate\"}, {\"id\": \"CHEBI:108143\", \"name\": \"4-[[5-[(3,4-dichlorophenyl)methylthio]-4-phenyl-1,2,4-triazol-3-yl]methyl]morpholine\"}, {\"id\": \"GTOPDB:5077\", \"name\": \"\"}, {\"id\": \"CHEBI:9416\", \"name\": \"(+)-taxifolin 3-O-acetate\"}, {\"id\": \"NCBIGene:1805\", \"name\": \"DPT\"}, {\"id\": \"NCBIGene:5298\", \"name\": \"PI4KB\"}, {\"id\": \"NCBIGene:959\", \"name\": \"CD40LG\"}, {\"id\": \"CHEBI:17552\", \"name\": \"GDP\"}, {\"id\": \"CHEBI:5921\", \"name\": \"3beta,11beta-Diacetoxy-1alpha-hydroxykaura-16-ene-6,15-dione\"}, {\"id\": \"CHEBI:62976\", \"name\": \"cellopentaose\"}, {\"id\": \"CHEBI:2336\", \"name\": \"9-Methoxy-alpha-lapachone\"}, {\"id\": \"CHEMBL.COMPOUND:CHEMBL2103830\", \"name\": \"FOSTAMATINIB\"}, {\"id\": \"CHEBI:5994\", \"name\": \"isochamaejasmin\"}, {\"id\": \"CHEMBL.COMPOUND:CHEMBL1229535\", \"name\": \"CHEMBL1229535\"}, {\"id\": \"NCBIGene:10974\", \"name\": \"ADIRF\"}, {\"id\": \"CHEMBL.COMPOUND:CHEMBL1233882\", \"name\": \"CHEMBL1233882\"}, {\"id\": \"CHEBI:52641\", \"name\": \"polyphosphoric acid\"}, {\"id\": \"CHEBI:15377\", \"name\": \"water\"}, {\"id\": \"MESH:D053260\", \"name\": \"Soot\"}, {\"id\": \"CHEBI:31703\", \"name\": \"iodamide\"}, {\"id\": \"CHEBI:5757\", \"name\": \"homostachydrine\"}, {\"id\": \"CHEBI:16761\", \"name\": \"ADP\"}, {\"id\": \"MONDO:0017373\", \"name\": \"poliomyelitis\"}, {\"id\": \"CHEBI:24262\", \"name\": \"glucoglycerolipid\"}, {\"id\": \"CHEBI:126941\", \"name\": \"1-[[(2R,3R)-5-[(2S)-1-hydroxypropan-2-yl]-3-methyl-6-oxo-8-[[oxo-(propan-2-ylamino)methyl]amino]-3,4-dihydro-2H-1,5-benzoxazocin-2-yl]methyl]-1-methyl-3-(1-naphthalenyl)urea\"}, {\"id\": \"CHEBI:4911\", \"name\": \"etoposide\"}, {\"id\": \"NCBIGene:11218\", \"name\": \"DDX20\"}, {\"id\": \"CHEBI:2578\", \"name\": \"Alkannin\"}, {\"id\": \"CHEBI:16708\", \"name\": \"adenine\"}, {\"id\": \"CHEBI:6849\", \"name\": \"rac-methyl 6-(4-isopropyl-4-methyl-5-oxo-2-imidazolin-2-yl)-p-toluate\"}, {\"id\": \"CHEBI:15939\", \"name\": \"glycyrrhizinic acid\"}, {\"id\": \"NCBIGene:9038\", \"name\": \"TAAR5\"}, {\"id\": \"CHEBI:18139\", \"name\": \"trimethylamine\"}, {\"id\": \"CHEBI:29865\", \"name\": \"benzo[a]pyrene\"}, {\"id\": \"NCBIGene:56269\", \"name\": \"IRGC\"}, {\"id\": \"MONDO:0017416\", \"name\": \"postpoliomyelitis syndrome\"}, {\"id\": \"CHEMBL.COMPOUND:CHEMBL609099\", \"name\": \"N,N-DIMETHYLETHANAMINIUM\"}, {\"id\": \"NCBIGene:4637\", \"name\": \"MYL6\"}, {\"id\": \"CHEBI:29108\", \"name\": \"calcium(2+)\"}, {\"id\": \"CHEBI:6801\", \"name\": \"metformin\"}, {\"id\": \"CHEBI:28119\", \"name\": \"2,3,7,8-tetrachlorodibenzodioxine\"}, {\"id\": \"NCBIGene:25915\", \"name\": \"NDUFAF3\"}, {\"id\": \"MONDO:0000341\", \"name\": \"paralytic poliomyelitis\"}], \"links\": [{\"source\": \"CHEMBL.COMPOUND:CHEMBL2397309\", \"target\": \"NCBIGene:5298\", \"name\": [\"decreases_activity_of\"]}, {\"source\": \"CHEBI:90682\", \"target\": \"NCBIGene:5298\", \"name\": [\"decreases_activity_of\"]}, {\"source\": \"NCBIGene:9138\", \"target\": \"MONDO:0017373\", \"name\": [\"gene_associated_with_condition\"]}, {\"source\": \"CHEBI:15996\", \"target\": \"NCBIGene:9138\", \"name\": [\"interacts_with\"]}, {\"source\": \"CHEBI:15996\", \"target\": \"MONDO:0017373\", \"name\": [\"literature_co-occurrence\"]}, {\"source\": \"CHEBI:15996\", \"target\": \"NCBIGene:56269\", \"name\": [\"interacts_with\"]}, {\"source\": \"CHEMBL.COMPOUND:CHEMBL2407818\", \"target\": \"NCBIGene:5298\", \"name\": [\"decreases_activity_of\"]}, {\"source\": \"CHEBI:4737\", \"target\": \"NCBIGene:959\", \"name\": [\"directly_interacts_with\"]}, {\"source\": \"NCBIGene:5817\", \"target\": \"MONDO:0017373\", \"name\": [\"gene_associated_with_condition\"]}, {\"source\": \"CHEBI:3385\", \"target\": \"NCBIGene:5298\", \"name\": [\"directly_interacts_with\"]}, {\"source\": \"CHEBI:3385\", \"target\": \"NCBIGene:10974\", \"name\": [\"directly_interacts_with\"]}, {\"source\": \"CHEBI:32509\", \"target\": \"NCBIGene:5817\", \"name\": [\"increases_expression_of\"]}, {\"source\": \"CHEBI:44185\", \"target\": \"MONDO:0017373\", \"name\": [\"literature_co-occurrence\"]}, {\"source\": \"NCBIGene:973\", \"target\": \"MONDO:0017373\", \"name\": [\"gene_associated_with_condition\"]}, {\"source\": \"CHEBI:52289\", \"target\": \"NCBIGene:5298\", \"name\": [\"decreases_activity_of\"]}, {\"source\": \"CHEBI:15422\", \"target\": \"NCBIGene:11218\", \"name\": [\"interacts_with\"]}, {\"source\": \"CHEBI:15422\", \"target\": \"NCBIGene:5298\", \"name\": [\"interacts_with\"]}, {\"source\": \"CHEBI:15422\", \"target\": \"MONDO:0017373\", \"name\": [\"literature_co-occurrence\"]}, {\"source\": \"CHEBI:39548\", \"target\": \"NCBIGene:959\", \"name\": [\"interacts_with\"]}, {\"source\": \"CHEBI:5607\", \"target\": \"NCBIGene:8570\", \"name\": [\"directly_interacts_with\"]}, {\"source\": \"CHEMBL.COMPOUND:CHEMBL1241578\", \"target\": \"NCBIGene:5298\", \"name\": [\"decreases_activity_of\"]}, {\"source\": \"CHEBI:6410\", \"target\": \"NCBIGene:5817\", \"name\": [\"directly_interacts_with\"]}, {\"source\": \"CHEBI:3763\", \"target\": \"NCBIGene:959\", \"name\": [\"directly_interacts_with\"]}, {\"source\": \"CHEBI:207229\", \"target\": \"NCBIGene:8570\", \"name\": [\"directly_interacts_with\"]}, {\"source\": \"NCBIGene:8570\", \"target\": \"MONDO:0017373\", \"name\": [\"gene_associated_with_condition\"]}, {\"source\": \"CHEBI:13643\", \"target\": \"NCBIGene:5817\", \"name\": [\"directly_interacts_with\"]}, {\"source\": \"CHEBI:13643\", \"target\": \"MONDO:0017373\", \"name\": [\"literature_co-occurrence\"]}, {\"source\": \"CHEBI:17345\", \"target\": \"NCBIGene:9138\", \"name\": [\"interacts_with\"]}, {\"source\": \"CHEBI:108143\", \"target\": \"NCBIGene:973\", \"name\": [\"directly_interacts_with\"]}, {\"source\": \"CHEBI:9416\", \"target\": \"NCBIGene:1805\", \"name\": [\"directly_interacts_with\"]}, {\"source\": \"NCBIGene:1805\", \"target\": \"MONDO:0017373\", \"name\": [\"gene_associated_with_condition\"]}, {\"source\": \"NCBIGene:1805\", \"target\": \"CHEBI:53444\", \"name\": [\"decreases_response_to\"]}, {\"source\": \"NCBIGene:5298\", \"target\": \"MONDO:0017373\", \"name\": [\"gene_associated_with_condition\"]}, {\"source\": \"NCBIGene:959\", \"target\": \"MONDO:0017373\", \"name\": [\"gene_associated_with_condition\"]}, {\"source\": \"NCBIGene:959\", \"target\": \"GTOPDB:5077\", \"name\": [\"has_gene_product\"]}, {\"source\": \"NCBIGene:959\", \"target\": \"CHEBI:4911\", \"name\": [\"decreases_response_to\"]}, {\"source\": \"NCBIGene:959\", \"target\": \"MESH:D002945\", \"name\": [\"decreases_response_to\"]}, {\"source\": \"CHEBI:17552\", \"target\": \"NCBIGene:9138\", \"name\": [\"interacts_with\"]}, {\"source\": \"CHEBI:17552\", \"target\": \"MONDO:0017373\", \"name\": [\"literature_co-occurrence\"]}, {\"source\": \"CHEBI:17552\", \"target\": \"NCBIGene:56269\", \"name\": [\"interacts_with\"]}, {\"source\": \"CHEBI:5921\", \"target\": \"NCBIGene:1805\", \"name\": [\"directly_interacts_with\"]}, {\"source\": \"CHEBI:62976\", \"target\": \"NCBIGene:959\", \"name\": [\"directly_interacts_with\"]}, {\"source\": \"CHEBI:2336\", \"target\": \"NCBIGene:959\", \"name\": [\"directly_interacts_with\"]}, {\"source\": \"CHEMBL.COMPOUND:CHEMBL2103830\", \"target\": \"NCBIGene:5298\", \"name\": [\"decreases_activity_of\"]}, {\"source\": \"CHEBI:5994\", \"target\": \"NCBIGene:10974\", \"name\": [\"directly_interacts_with\"]}, {\"source\": \"CHEMBL.COMPOUND:CHEMBL1229535\", \"target\": \"NCBIGene:5298\", \"name\": [\"decreases_activity_of\"]}, {\"source\": \"NCBIGene:10974\", \"target\": \"MONDO:0017373\", \"name\": [\"gene_associated_with_condition\"]}, {\"source\": \"NCBIGene:10974\", \"target\": \"CHEBI:44185\", \"name\": [\"affects_response_to\"]}, {\"source\": \"CHEMBL.COMPOUND:CHEMBL1233882\", \"target\": \"NCBIGene:5298\", \"name\": [\"decreases_activity_of\"]}, {\"source\": \"CHEBI:52641\", \"target\": \"NCBIGene:11218\", \"name\": [\"interacts_with\"]}, {\"source\": \"CHEBI:52641\", \"target\": \"MONDO:0017373\", \"name\": [\"literature_co-occurrence\"]}, {\"source\": \"CHEBI:52641\", \"target\": \"NCBIGene:56269\", \"name\": [\"interacts_with\"]}, {\"source\": \"CHEBI:15377\", \"target\": \"NCBIGene:11218\", \"name\": [\"interacts_with\"]}, {\"source\": \"CHEBI:15377\", \"target\": \"MONDO:0017373\", \"name\": [\"literature_co-occurrence\"]}, {\"source\": \"CHEBI:15377\", \"target\": \"NCBIGene:56269\", \"name\": [\"interacts_with\"]}, {\"source\": \"CHEBI:15377\", \"target\": \"MONDO:0017416\", \"name\": [\"literature_co-occurrence\"]}, {\"source\": \"CHEBI:31703\", \"target\": \"NCBIGene:8570\", \"name\": [\"directly_interacts_with\"]}, {\"source\": \"CHEBI:31703\", \"target\": \"NCBIGene:9138\", \"name\": [\"directly_interacts_with\"]}, {\"source\": \"CHEBI:5757\", \"target\": \"NCBIGene:10974\", \"name\": [\"directly_interacts_with\"]}, {\"source\": \"CHEBI:5757\", \"target\": \"NCBIGene:959\", \"name\": [\"directly_interacts_with\"]}, {\"source\": \"CHEBI:16761\", \"target\": \"NCBIGene:11218\", \"name\": [\"interacts_with\"]}, {\"source\": \"CHEBI:16761\", \"target\": \"NCBIGene:5298\", \"name\": [\"interacts_with\"]}, {\"source\": \"MONDO:0017373\", \"target\": \"NCBIGene:10974\", \"name\": [\"gene_associated_with_condition\"]}, {\"source\": \"MONDO:0017373\", \"target\": \"NCBIGene:1805\", \"name\": [\"gene_associated_with_condition\"]}, {\"source\": \"CHEBI:24262\", \"target\": \"NCBIGene:10974\", \"name\": [\"directly_interacts_with\"]}, {\"source\": \"CHEBI:126941\", \"target\": \"NCBIGene:10974\", \"name\": [\"directly_interacts_with\"]}, {\"source\": \"NCBIGene:11218\", \"target\": \"MONDO:0017373\", \"name\": [\"gene_associated_with_condition\"]}, {\"source\": \"NCBIGene:11218\", \"target\": \"MESH:D053260\", \"name\": [\"affects_response_to\"]}, {\"source\": \"CHEBI:2578\", \"target\": \"NCBIGene:973\", \"name\": [\"directly_interacts_with\"]}, {\"source\": \"CHEBI:16708\", \"target\": \"NCBIGene:8570\", \"name\": [\"decreases_molecular_interaction\"]}, {\"source\": \"CHEBI:16708\", \"target\": \"MONDO:0017373\", \"name\": [\"literature_co-occurrence\"]}, {\"source\": \"CHEBI:6849\", \"target\": \"NCBIGene:4637\", \"name\": [\"directly_interacts_with\"]}, {\"source\": \"CHEBI:15939\", \"target\": \"NCBIGene:4637\", \"name\": [\"directly_interacts_with\"]}, {\"source\": \"NCBIGene:9038\", \"target\": \"MONDO:0017416\", \"name\": [\"gene_associated_with_condition\"]}, {\"source\": \"CHEBI:18139\", \"target\": \"NCBIGene:9038\", \"name\": [\"increases_activity_of\"]}, {\"source\": \"CHEBI:29865\", \"target\": \"NCBIGene:4637\", \"name\": [\"increases_molecular_interaction\"]}, {\"source\": \"NCBIGene:56269\", \"target\": \"MONDO:0017416\", \"name\": [\"gene_associated_with_condition\"]}, {\"source\": \"MONDO:0017416\", \"target\": \"NCBIGene:56269\", \"name\": [\"gene_associated_with_condition\"]}, {\"source\": \"CHEMBL.COMPOUND:CHEMBL609099\", \"target\": \"NCBIGene:9038\", \"name\": [\"increases_activity_of\"]}, {\"source\": \"NCBIGene:4637\", \"target\": \"MONDO:0017416\", \"name\": [\"gene_associated_with_condition\"]}, {\"source\": \"CHEBI:29108\", \"target\": \"NCBIGene:4637\", \"name\": [\"interacts_with\"]}, {\"source\": \"CHEBI:6801\", \"target\": \"NCBIGene:25915\", \"name\": [\"decreases_activity_of\"]}, {\"source\": \"CHEBI:28119\", \"target\": \"NCBIGene:25915\", \"name\": [\"increases_molecular_interaction\"]}, {\"source\": \"NCBIGene:25915\", \"target\": \"MONDO:0000341\", \"name\": [\"gene_associated_with_condition\"]}]};\n",
       "    const resizeDetector = resizeMaker({ strategy: 'scroll' });\n",
       "    const container = document.querySelector(\".force-graph-20.graph-container\");\n",
       "    container.style.overflow = \"hidden\";\n",
       "    const width = null;\n",
       "    const height = 400;\n",
       "    if (width !== null) container.style.width = width + \"px\";\n",
       "    if (height !== null) container.style.height = height + \"px\";\n",
       "\n",
       "    const titleElement = document.querySelector(\".force-graph-20.title-container\");\n",
       "\n",
       "    const title = document.createElement(\"span\");\n",
       "    title.textContent = \"Mock 2\";\n",
       "    title.style.fontWeight = \"bold\";\n",
       "\n",
       "    const titleInfo = document.createElement(\"span\");\n",
       "    titleInfo.textContent = ` (${data.nodes.length} nodes, ${data.links.length} edges)`;\n",
       "\n",
       "    titleElement.appendChild(title);\n",
       "    titleElement.appendChild(titleInfo);\n",
       "\n",
       "    const graph = ForceGraph()(container).graphData(data)\n",
       "                                         .width(width)\n",
       "                                         .height(height);\n",
       "    resizeDetector.listenTo(container, function(element) {\n",
       "        graph.width(container.querySelector(\"canvas\").offsetWidth);\n",
       "        // graph.height(container.querySelector(\"canvas\").offsetHeight);\n",
       "    });\n",
       "    window.graph = graph;\n",
       "    // Prevent a memory leak by emptying force graph upon unmount\n",
       "    // also uninstall the detector\n",
       "    // Could use a MutationObserver but it's not really worth the effort,\n",
       "    // since uninstalling isn't time sensitive, it just has to get done eventually\n",
       "    const removedInterval = setInterval(() => {\n",
       "        if (!document.contains(container)) {\n",
       "            resizeDetector.uninstall(container);\n",
       "            graph.graphData({nodes: [], links: []});\n",
       "            clearInterval(removedInterval);\n",
       "        }\n",
       "    }, 1000);\n",
       "\n",
       "});\n",
       "</script>\n",
       "    "
      ],
      "text/plain": [
       "<IPython.core.display.HTML object>"
      ]
     },
     "metadata": {},
     "output_type": "display_data"
    },
    {
     "data": {
      "text/html": [
       "\n",
       "<div class=\"force-graph-21 title-container\"></div>\n",
       "<div class=\"force-graph-21 graph-container\"></div>\n",
       "<style>\n",
       ".force-graph-21 canvas {\n",
       "    width: 100% !important;\n",
       "    border: 1px solid gray;\n",
       "}\n",
       "</style>\n",
       "<script>\n",
       "require(['https://unpkg.com/3d-force-graph', 'https://cdn.jsdelivr.net/npm/element-resize-detector@1.2.1/dist/element-resize-detector.min.js'], function(ForceGraph, resizeMaker) {\n",
       "    const data = {\"nodes\": [{\"id\": \"CHEMBL.COMPOUND:CHEMBL2397309\", \"name\": \"CHEMBL2397309\"}, {\"id\": \"NCBIGene:9138\", \"name\": \"ARHGEF1\"}, {\"id\": \"CHEMBL.COMPOUND:CHEMBL2407818\", \"name\": \"CHEMBL2407818\"}, {\"id\": \"CHEBI:4737\", \"name\": \"N-ethylphenylacetamide\"}, {\"id\": \"NCBIGene:5817\", \"name\": \"PVR\"}, {\"id\": \"CHEBI:32509\", \"name\": \"pirinixic acid\"}, {\"id\": \"NCBIGene:973\", \"name\": \"CD79A\"}, {\"id\": \"CHEBI:52289\", \"name\": \"wortmannin\"}, {\"id\": \"CHEBI:39548\", \"name\": \"atorvastatin\"}, {\"id\": \"CHEBI:53444\", \"name\": \"potassium dichromate\"}, {\"id\": \"CHEBI:5607\", \"name\": \"hallactone B\"}, {\"id\": \"CHEMBL.COMPOUND:CHEMBL1241578\", \"name\": \"CHEMBL1241578\"}, {\"id\": \"CHEBI:3763\", \"name\": \"clorgyline\"}, {\"id\": \"CHEBI:207229\", \"name\": \"dihydroartemisinin\"}, {\"id\": \"NCBIGene:8570\", \"name\": \"KHSRP\"}, {\"id\": \"CHEBI:13643\", \"name\": \"glycol\"}, {\"id\": \"CHEBI:17345\", \"name\": \"guanosine 5'-monophosphate\"}, {\"id\": \"CHEBI:108143\", \"name\": \"4-[[5-[(3,4-dichlorophenyl)methylthio]-4-phenyl-1,2,4-triazol-3-yl]methyl]morpholine\"}, {\"id\": \"GTOPDB:5077\", \"name\": \"\"}, {\"id\": \"NCBIGene:1805\", \"name\": \"DPT\"}, {\"id\": \"NCBIGene:5298\", \"name\": \"PI4KB\"}, {\"id\": \"NCBIGene:959\", \"name\": \"CD40LG\"}, {\"id\": \"CHEBI:17552\", \"name\": \"GDP\"}, {\"id\": \"CHEBI:5921\", \"name\": \"3beta,11beta-Diacetoxy-1alpha-hydroxykaura-16-ene-6,15-dione\"}, {\"id\": \"CHEBI:62976\", \"name\": \"cellopentaose\"}, {\"id\": \"CHEMBL.COMPOUND:CHEMBL2103830\", \"name\": \"FOSTAMATINIB\"}, {\"id\": \"CHEMBL.COMPOUND:CHEMBL1229535\", \"name\": \"CHEMBL1229535\"}, {\"id\": \"NCBIGene:10974\", \"name\": \"ADIRF\"}, {\"id\": \"CHEMBL.COMPOUND:CHEMBL1233882\", \"name\": \"CHEMBL1233882\"}, {\"id\": \"CHEBI:52641\", \"name\": \"polyphosphoric acid\"}, {\"id\": \"MESH:D053260\", \"name\": \"Soot\"}, {\"id\": \"MONDO:0017373\", \"name\": \"poliomyelitis\"}, {\"id\": \"CHEBI:24262\", \"name\": \"glucoglycerolipid\"}, {\"id\": \"CHEBI:4911\", \"name\": \"etoposide\"}, {\"id\": \"NCBIGene:11218\", \"name\": \"DDX20\"}, {\"id\": \"CHEBI:2578\", \"name\": \"Alkannin\"}, {\"id\": \"CHEBI:16708\", \"name\": \"adenine\"}, {\"id\": \"CHEBI:6849\", \"name\": \"rac-methyl 6-(4-isopropyl-4-methyl-5-oxo-2-imidazolin-2-yl)-p-toluate\"}, {\"id\": \"NCBIGene:9038\", \"name\": \"TAAR5\"}, {\"id\": \"CHEBI:18139\", \"name\": \"trimethylamine\"}, {\"id\": \"NCBIGene:56269\", \"name\": \"IRGC\"}, {\"id\": \"MONDO:0017416\", \"name\": \"postpoliomyelitis syndrome\"}, {\"id\": \"CHEMBL.COMPOUND:CHEMBL609099\", \"name\": \"N,N-DIMETHYLETHANAMINIUM\"}, {\"id\": \"NCBIGene:4637\", \"name\": \"MYL6\"}, {\"id\": \"CHEBI:6801\", \"name\": \"metformin\"}, {\"id\": \"NCBIGene:25915\", \"name\": \"NDUFAF3\"}, {\"id\": \"MONDO:0000341\", \"name\": \"paralytic poliomyelitis\"}], \"links\": [{\"source\": \"CHEMBL.COMPOUND:CHEMBL2397309\", \"target\": \"NCBIGene:5298\", \"name\": [\"decreases_activity_of\"]}, {\"source\": \"NCBIGene:9138\", \"target\": \"MONDO:0017373\", \"name\": [\"gene_associated_with_condition\"]}, {\"source\": \"CHEMBL.COMPOUND:CHEMBL2407818\", \"target\": \"NCBIGene:5298\", \"name\": [\"decreases_activity_of\"]}, {\"source\": \"CHEBI:4737\", \"target\": \"NCBIGene:959\", \"name\": [\"directly_interacts_with\"]}, {\"source\": \"NCBIGene:5817\", \"target\": \"MONDO:0017373\", \"name\": [\"gene_associated_with_condition\"]}, {\"source\": \"CHEBI:32509\", \"target\": \"NCBIGene:5817\", \"name\": [\"increases_expression_of\"]}, {\"source\": \"NCBIGene:973\", \"target\": \"MONDO:0017373\", \"name\": [\"gene_associated_with_condition\"]}, {\"source\": \"CHEBI:52289\", \"target\": \"NCBIGene:5298\", \"name\": [\"decreases_activity_of\"]}, {\"source\": \"CHEBI:39548\", \"target\": \"NCBIGene:959\", \"name\": [\"interacts_with\"]}, {\"source\": \"CHEBI:5607\", \"target\": \"NCBIGene:8570\", \"name\": [\"directly_interacts_with\"]}, {\"source\": \"CHEMBL.COMPOUND:CHEMBL1241578\", \"target\": \"NCBIGene:5298\", \"name\": [\"decreases_activity_of\"]}, {\"source\": \"CHEBI:3763\", \"target\": \"NCBIGene:959\", \"name\": [\"directly_interacts_with\"]}, {\"source\": \"CHEBI:207229\", \"target\": \"NCBIGene:8570\", \"name\": [\"directly_interacts_with\"]}, {\"source\": \"NCBIGene:8570\", \"target\": \"MONDO:0017373\", \"name\": [\"gene_associated_with_condition\"]}, {\"source\": \"CHEBI:13643\", \"target\": \"NCBIGene:5817\", \"name\": [\"directly_interacts_with\"]}, {\"source\": \"CHEBI:13643\", \"target\": \"MONDO:0017373\", \"name\": [\"literature_co-occurrence\"]}, {\"source\": \"CHEBI:17345\", \"target\": \"NCBIGene:9138\", \"name\": [\"interacts_with\"]}, {\"source\": \"CHEBI:108143\", \"target\": \"NCBIGene:973\", \"name\": [\"directly_interacts_with\"]}, {\"source\": \"NCBIGene:1805\", \"target\": \"MONDO:0017373\", \"name\": [\"gene_associated_with_condition\"]}, {\"source\": \"NCBIGene:1805\", \"target\": \"CHEBI:53444\", \"name\": [\"decreases_response_to\"]}, {\"source\": \"NCBIGene:5298\", \"target\": \"MONDO:0017373\", \"name\": [\"gene_associated_with_condition\"]}, {\"source\": \"NCBIGene:959\", \"target\": \"MONDO:0017373\", \"name\": [\"gene_associated_with_condition\"]}, {\"source\": \"NCBIGene:959\", \"target\": \"GTOPDB:5077\", \"name\": [\"has_gene_product\"]}, {\"source\": \"NCBIGene:959\", \"target\": \"CHEBI:4911\", \"name\": [\"decreases_response_to\"]}, {\"source\": \"CHEBI:17552\", \"target\": \"NCBIGene:9138\", \"name\": [\"interacts_with\"]}, {\"source\": \"CHEBI:17552\", \"target\": \"MONDO:0017373\", \"name\": [\"literature_co-occurrence\"]}, {\"source\": \"CHEBI:17552\", \"target\": \"NCBIGene:56269\", \"name\": [\"interacts_with\"]}, {\"source\": \"CHEBI:5921\", \"target\": \"NCBIGene:1805\", \"name\": [\"directly_interacts_with\"]}, {\"source\": \"CHEBI:62976\", \"target\": \"NCBIGene:959\", \"name\": [\"directly_interacts_with\"]}, {\"source\": \"CHEMBL.COMPOUND:CHEMBL2103830\", \"target\": \"NCBIGene:5298\", \"name\": [\"decreases_activity_of\"]}, {\"source\": \"CHEMBL.COMPOUND:CHEMBL1229535\", \"target\": \"NCBIGene:5298\", \"name\": [\"decreases_activity_of\"]}, {\"source\": \"NCBIGene:10974\", \"target\": \"MONDO:0017373\", \"name\": [\"gene_associated_with_condition\"]}, {\"source\": \"CHEMBL.COMPOUND:CHEMBL1233882\", \"target\": \"NCBIGene:5298\", \"name\": [\"decreases_activity_of\"]}, {\"source\": \"CHEBI:52641\", \"target\": \"NCBIGene:11218\", \"name\": [\"interacts_with\"]}, {\"source\": \"CHEBI:52641\", \"target\": \"MONDO:0017373\", \"name\": [\"literature_co-occurrence\"]}, {\"source\": \"CHEBI:52641\", \"target\": \"NCBIGene:56269\", \"name\": [\"interacts_with\"]}, {\"source\": \"MONDO:0017373\", \"target\": \"NCBIGene:10974\", \"name\": [\"gene_associated_with_condition\"]}, {\"source\": \"MONDO:0017373\", \"target\": \"NCBIGene:1805\", \"name\": [\"gene_associated_with_condition\"]}, {\"source\": \"CHEBI:24262\", \"target\": \"NCBIGene:10974\", \"name\": [\"directly_interacts_with\"]}, {\"source\": \"NCBIGene:11218\", \"target\": \"MONDO:0017373\", \"name\": [\"gene_associated_with_condition\"]}, {\"source\": \"NCBIGene:11218\", \"target\": \"MESH:D053260\", \"name\": [\"affects_response_to\"]}, {\"source\": \"CHEBI:2578\", \"target\": \"NCBIGene:973\", \"name\": [\"directly_interacts_with\"]}, {\"source\": \"CHEBI:16708\", \"target\": \"NCBIGene:8570\", \"name\": [\"decreases_molecular_interaction\"]}, {\"source\": \"CHEBI:16708\", \"target\": \"MONDO:0017373\", \"name\": [\"literature_co-occurrence\"]}, {\"source\": \"CHEBI:6849\", \"target\": \"NCBIGene:4637\", \"name\": [\"directly_interacts_with\"]}, {\"source\": \"NCBIGene:9038\", \"target\": \"MONDO:0017416\", \"name\": [\"gene_associated_with_condition\"]}, {\"source\": \"CHEBI:18139\", \"target\": \"NCBIGene:9038\", \"name\": [\"increases_activity_of\"]}, {\"source\": \"NCBIGene:56269\", \"target\": \"MONDO:0017416\", \"name\": [\"gene_associated_with_condition\"]}, {\"source\": \"MONDO:0017416\", \"target\": \"NCBIGene:56269\", \"name\": [\"gene_associated_with_condition\"]}, {\"source\": \"CHEMBL.COMPOUND:CHEMBL609099\", \"target\": \"NCBIGene:9038\", \"name\": [\"increases_activity_of\"]}, {\"source\": \"NCBIGene:4637\", \"target\": \"MONDO:0017416\", \"name\": [\"gene_associated_with_condition\"]}, {\"source\": \"CHEBI:6801\", \"target\": \"NCBIGene:25915\", \"name\": [\"decreases_activity_of\"]}, {\"source\": \"NCBIGene:25915\", \"target\": \"MONDO:0000341\", \"name\": [\"gene_associated_with_condition\"]}]};\n",
       "    const resizeDetector = resizeMaker({ strategy: 'scroll' });\n",
       "    const container = document.querySelector(\".force-graph-21.graph-container\");\n",
       "    container.style.overflow = \"hidden\";\n",
       "    const width = null;\n",
       "    const height = 400;\n",
       "    if (width !== null) container.style.width = width + \"px\";\n",
       "    if (height !== null) container.style.height = height + \"px\";\n",
       "\n",
       "    const titleElement = document.querySelector(\".force-graph-21.title-container\");\n",
       "\n",
       "    const title = document.createElement(\"span\");\n",
       "    title.textContent = \"Difference of mock #2 and mock #1\";\n",
       "    title.style.fontWeight = \"bold\";\n",
       "\n",
       "    const titleInfo = document.createElement(\"span\");\n",
       "    titleInfo.textContent = ` (${data.nodes.length} nodes, ${data.links.length} edges)`;\n",
       "\n",
       "    titleElement.appendChild(title);\n",
       "    titleElement.appendChild(titleInfo);\n",
       "\n",
       "    const graph = ForceGraph()(container).graphData(data)\n",
       "                                         .width(width)\n",
       "                                         .height(height);\n",
       "    resizeDetector.listenTo(container, function(element) {\n",
       "        graph.width(container.querySelector(\"canvas\").offsetWidth);\n",
       "        // graph.height(container.querySelector(\"canvas\").offsetHeight);\n",
       "    });\n",
       "    window.graph = graph;\n",
       "    // Prevent a memory leak by emptying force graph upon unmount\n",
       "    // also uninstall the detector\n",
       "    // Could use a MutationObserver but it's not really worth the effort,\n",
       "    // since uninstalling isn't time sensitive, it just has to get done eventually\n",
       "    const removedInterval = setInterval(() => {\n",
       "        if (!document.contains(container)) {\n",
       "            resizeDetector.uninstall(container);\n",
       "            graph.graphData({nodes: [], links: []});\n",
       "            clearInterval(removedInterval);\n",
       "        }\n",
       "    }, 1000);\n",
       "\n",
       "});\n",
       "</script>\n",
       "    "
      ],
      "text/plain": [
       "<IPython.core.display.HTML object>"
      ]
     },
     "metadata": {},
     "output_type": "display_data"
    }
   ],
   "source": [
    "union = mock1 + mock2\n",
    "\n",
    "simple_symmetric_difference = mock1.simple_symmetric_difference(mock2)\n",
    "mock2.render_force_graph_2d()\n",
    "\n",
    "simple_difference = mock2 - mock1\n",
    "simple_difference.render_force_graph_3d(title=\"Difference of mock #2 and mock #1\")\n",
    "\n",
    "\n",
    "simple_intersection = mock1.simple_intersection(mock2)"
   ]
  },
  {
   "cell_type": "code",
   "execution_count": null,
   "metadata": {
    "scrolled": false
   },
   "outputs": [],
   "source": [
    "mock1.render_node_table()"
   ]
  },
  {
   "cell_type": "code",
   "execution_count": null,
   "metadata": {},
   "outputs": [],
   "source": [
    "# KnowledgeGraph.render_graph_grid(\n",
    "#     [\n",
    "#         [mock1, mock2],\n",
    "#         [mock1 + mock2]\n",
    "#     ],\n",
    "#     KnowledgeGraph.render_force_graph_2d\n",
    "# )"
   ]
  },
  {
   "cell_type": "code",
   "execution_count": 16,
   "metadata": {
    "scrolled": true
   },
   "outputs": [
    {
     "data": {
      "image/png": "[encoded data removed]",
      "text/plain": [
       "<Figure size 432x288 with 1 Axes>"
      ]
     },
     "metadata": {
      "needs_background": "light"
     },
     "output_type": "display_data"
    }
   ],
   "source": [
    "import pandas as pd\n",
    "import seaborn as sns\n",
    "import matplotlib.pyplot as plt\n",
    "import numpy as np\n",
    "\n",
    "sym_diff_dfs = simple_symmetric_difference.to_dataframe_dict()\n",
    "weight = sym_diff_dfs[\"nodes\"].molecular_weight\n",
    "filtered_weight = weight[weight.apply(lambda x: isinstance(x, np.float))]\n",
    "sns.distplot(filtered_weight)\n",
    "plt.show()"
   ]
  },
  {
   "cell_type": "code",
   "execution_count": null,
   "metadata": {},
   "outputs": [],
   "source": [
    "import seaborn as sns\n",
    "\n",
    "sns.set(style=\"ticks\", palette=\"pastel\", color_codes=True)"
   ]
  },
  {
   "cell_type": "code",
   "execution_count": null,
   "metadata": {},
   "outputs": [],
   "source": [
    "KnowledgeGraph.plot_graph_sizes(\n",
    "    mock1,\n",
    "    mock2,\n",
    "    (simple_difference, \"Difference\")\n",
    ")"
   ]
  },
  {
   "cell_type": "code",
   "execution_count": null,
   "metadata": {},
   "outputs": [],
   "source": [
    "KnowledgeGraph.plot_node_type_distributions(\n",
    "    (mock1, \"Mock 1\"),\n",
    "    (mock2, \"Mock 2\"),\n",
    "    (simple_symmetric_difference, \"Symmetric Difference\")\n",
    ")"
   ]
  },
  {
   "cell_type": "code",
   "execution_count": null,
   "metadata": {},
   "outputs": [],
   "source": [
    "edge_df = sym_diff_dfs[\"edges\"]\n",
    "sns.distplot(edge_df[\"weight\"], bins=6)"
   ]
  },
  {
   "cell_type": "code",
   "execution_count": 94,
   "metadata": {},
   "outputs": [
    {
     "data": {
      "text/plain": [
       "<matplotlib.axes._subplots.AxesSubplot at 0x1a7a3d4fcf8>"
      ]
     },
     "execution_count": 94,
     "metadata": {},
     "output_type": "execute_result"
    },
    {
     "data": {
      "image/png": "[encoded data removed]",
      "text/plain": [
       "<Figure size 432x288 with 1 Axes>"
      ]
     },
     "metadata": {
      "needs_background": "light"
     },
     "output_type": "display_data"
    }
   ],
   "source": [
    "filtered_weight.plot.hist(bins=20)\n",
    "# dir(filtered_weight.plot)"
   ]
  },
  {
   "cell_type": "code",
   "execution_count": null,
   "metadata": {},
   "outputs": [],
   "source": []
  }
 ],
 "metadata": {
  "kernelspec": {
   "display_name": "Python 3",
   "language": "python",
   "name": "python3"
  },
  "language_info": {
   "codemirror_mode": {
    "name": "ipython",
    "version": 3
   },
   "file_extension": ".py",
   "mimetype": "text/x-python",
   "name": "python",
   "nbconvert_exporter": "python",
   "pygments_lexer": "ipython3",
   "version": "3.7.2"
  }
 },
 "nbformat": 4,
 "nbformat_minor": 2
}
