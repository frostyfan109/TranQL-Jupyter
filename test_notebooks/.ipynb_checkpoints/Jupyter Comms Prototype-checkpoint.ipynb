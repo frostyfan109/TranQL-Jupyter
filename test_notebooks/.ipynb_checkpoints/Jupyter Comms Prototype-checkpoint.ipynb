{
 "cells": [
  {
   "cell_type": "code",
   "execution_count": null,
   "metadata": {},
   "outputs": [],
   "source": [
    "\"\"\" Non-functional prototype/concept for implementation in TranQL Jupyter\n",
    "Below this is an actual implementation of Comms. This concept does not\n",
    "use them correctly.\n",
    "\"\"\"\n",
    "\n",
    "# from IPython.display import display, HTML, Javascript\n",
    "# from ipykernel.comm import Comm\n",
    "# import json\n",
    "\n",
    "# class KnowledgeGraph:\n",
    "#     def __init__(self, elements):\n",
    "#         self.elements = elements\n",
    "#         self.most_recent = None\n",
    "        \n",
    "#     def show(self):\n",
    "#         show_graph(self)\n",
    "\n",
    "# x = 0\n",
    "# def show_graph(graph):\n",
    "#     global x\n",
    "#     x += 1\n",
    "    \n",
    "#     comm = Comm(target_name=\"data\")\n",
    "#     display(HTML(\"\"\"\n",
    "#     <div id=\"test%s\"></div>\n",
    "#     <script>\n",
    "#     (() => {\n",
    "#         const comm = Jupyter.notebook.kernel.comm_manager.new_comm(\"data\");\n",
    "#         const container = document.querySelector(\"#test%s\");\n",
    "#         const elements = %s;\n",
    "#         elements.forEach((element) => {\n",
    "#             const btn = document.createElement(\"button\");\n",
    "#             button.innerText = element;\n",
    "#             button.onclick = comm.send(element);\n",
    "#             container.appendChild(btn);\n",
    "#         });\n",
    "#     })()\n",
    "#     </script>\n",
    "#     \"\"\" % (x, x, json.dumps(graph.elements))))\n",
    "    \n",
    "# mock1 = KnowledgeGraph([1, 2])\n",
    "# mock2 = KnowledgeGraph([10, 15])"
   ]
  },
  {
   "cell_type": "code",
   "execution_count": null,
   "metadata": {},
   "outputs": [],
   "source": [
    "mock1.show()"
   ]
  },
  {
   "cell_type": "code",
   "execution_count": null,
   "metadata": {},
   "outputs": [],
   "source": []
  },
  {
   "cell_type": "code",
   "execution_count": null,
   "metadata": {},
   "outputs": [],
   "source": [
    "\"\"\" Implementation of Jupyter Comms for communication between Javascript\n",
    "and Python. Python backend creates the comm target, and JS frontend\n",
    "opens the comm.\n",
    "\n",
    "Whichever end opens the comm (isn't the target) has control\n",
    "over initiating communication, but both sides have control over ceasing it.\n",
    "As a side-effect, the other side (the target) does not get direct access\n",
    "to the comm. Rather, they have to access it through a callback when it is\n",
    "instantiated by the other party.\n",
    "\n",
    "In this example, we give control over to the JS frontend to create the comm,\n",
    "although it doesn't matter much either way. It's just more convenient to have\n",
    "direct access to the comm on the Javascript side in TranQL-Jupyter, and this\n",
    "example was made with TranQL-Jupyter in mind.\n",
    "\n",
    "For an example of how to instantiate a comm from the Python backend and create\n",
    "the target in JS, see: https://jupyter-notebook.readthedocs.io/en/stable/comms.html\n",
    "It also explains what's done in this example but in greater detail.\n",
    "\n",
    "\"\"\"\n",
    "import IPython\n",
    "from IPython.display import display, Javascript\n",
    "\n",
    "def target_func(comm, open_msg):\n",
    "    @comm.on_msg\n",
    "    def _recv(msg):\n",
    "        pass\n",
    "    \n",
    "    comm.send(\"testing (comm just opened)\")\n",
    "get_ipython().kernel.comm_manager.register_target(\"testcomm\", target_func)"
   ]
  },
  {
   "cell_type": "code",
   "execution_count": null,
   "metadata": {},
   "outputs": [],
   "source": [
    "%%javascript\n",
    "(() => {\n",
    "window.testcomm = Jupyter.notebook.kernel.comm_manager.new_comm(\"testcomm\");\n",
    "testcomm.on_msg(function(msg) {\n",
    "    console.log(\"Message:\", msg.content.data);\n",
    "});\n",
    "testcomm.on_close(function(msg) {\n",
    "    console.log(\"Closed:\", msg);\n",
    "});\n",
    "// testcomm.send({\"x\": 0});\n",
    "    \n",
    "})()"
   ]
  },
  {
   "cell_type": "code",
   "execution_count": null,
   "metadata": {},
   "outputs": [],
   "source": []
  },
  {
   "cell_type": "code",
   "execution_count": null,
   "metadata": {},
   "outputs": [],
   "source": []
  },
  {
   "cell_type": "code",
   "execution_count": null,
   "metadata": {},
   "outputs": [],
   "source": []
  }
 ],
 "metadata": {
  "kernelspec": {
   "display_name": "Python 3",
   "language": "python",
   "name": "python3"
  },
  "language_info": {
   "codemirror_mode": {
    "name": "ipython",
    "version": 3
   },
   "file_extension": ".py",
   "mimetype": "text/x-python",
   "name": "python",
   "nbconvert_exporter": "python",
   "pygments_lexer": "ipython3",
   "version": "3.7.2"
  }
 },
 "nbformat": 4,
 "nbformat_minor": 2
}
