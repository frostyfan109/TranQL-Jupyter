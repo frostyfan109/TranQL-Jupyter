{
 "cells": [
  {
   "cell_type": "code",
   "execution_count": 1,
   "metadata": {},
   "outputs": [],
   "source": [
    "from tranql_jupyter.tranql_response import KnowledgeGraph\n",
    "import ReasonerStdAPI_diff as reasoner_diff"
   ]
  },
  {
   "cell_type": "code",
   "execution_count": 2,
   "metadata": {},
   "outputs": [],
   "source": [
    "# monkey patching\n",
    "def edge_equals(self, e0, e1):\n",
    "    return e0 == e1\n",
    "reasoner_diff.GraphComparator.edge_equals = edge_equals"
   ]
  },
  {
   "cell_type": "code",
   "execution_count": 3,
   "metadata": {},
   "outputs": [],
   "source": [
    "mock1 = KnowledgeGraph.mock1()\n",
    "mock1.graph_name = \"Mock 1\"\n",
    "\n",
    "mock2 = KnowledgeGraph.mock2()\n",
    "mock2.graph_name = \"Mock 2\""
   ]
  },
  {
   "cell_type": "code",
   "execution_count": 4,
   "metadata": {},
   "outputs": [],
   "source": [
    "message1 = {\"knowledge_graph\": {\n",
    "    \"nodes\": [\n",
    "        {\"id\": \"CHEMBL:X\"},\n",
    "        {\"id\": \"ONTO:X\"},\n",
    "        {\"id\": \"MONDO:X\"}\n",
    "    ],\n",
    "    \"edges\": [\n",
    "        {\"source_id\": \"CHEMBL:X\", \"target_id\": \"ONTO:X\"},\n",
    "        {\"source_id\": \"ONTO:X\", \"target_id\": \"MONDO:X\"}\n",
    "    ]\n",
    "}}\n",
    "message2 = {\"knowledge_graph\": {\n",
    "    \"nodes\": [\n",
    "        {\"id\": \"CHEMBL:X\"},\n",
    "        {\"id\": \"ONTO:X\"},\n",
    "        {\"id\": \"MONDO:X\"}\n",
    "    ],\n",
    "    \"edges\": [\n",
    "        {\"source_id\": \"CHEMBL:X\", \"target_id\": \"MONDO:X\"},\n",
    "        {\"source_id\": \"ONTO:X\", \"target_id\": \"MONDO:X\"}\n",
    "    ]\n",
    "}}\n"
   ]
  },
  {
   "cell_type": "code",
   "execution_count": 7,
   "metadata": {
    "scrolled": false
   },
   "outputs": [
    {
     "name": "stdout",
     "output_type": "stream",
     "text": [
      "{\n",
      "  \"edges\": [\n",
      "    {\n",
      "      \"source_id\": \"CHEMBL:X\",\n",
      "      \"target_id\": \"ONTO:X\"\n",
      "    },\n",
      "    {\n",
      "      \"source_id\": \"ONTO:X\",\n",
      "      \"target_id\": \"MONDO:X\"\n",
      "    }\n",
      "  ],\n",
      "  \"nodes\": [\n",
      "    {\n",
      "      \"id\": \"MONDO:X\"\n",
      "    },\n",
      "    {\n",
      "      \"id\": \"ONTO:X\"\n",
      "    },\n",
      "    {\n",
      "      \"id\": \"CHEMBL:X\"\n",
      "    }\n",
      "  ]\n",
      "}\n"
     ]
    }
   ],
   "source": [
    "# message1 = {\"knowledge_graph\": mock1.build_knowledge_graph()}\n",
    "# message2 = {\"knowledge_graph\": mock2.build_knowledge_graph()}\n",
    "import json\n",
    "comparator = reasoner_diff.GraphComparator()\n",
    "comparison = comparator.compare(message1, message2)\n",
    "print(json.dumps(comparison[\"g1-g2\"], indent=2))\n",
    "# KnowledgeGraph(comparison[\"g1-g2\"]).render_force_graph_2d()"
   ]
  },
  {
   "cell_type": "code",
   "execution_count": null,
   "metadata": {},
   "outputs": [],
   "source": []
  }
 ],
 "metadata": {
  "kernelspec": {
   "display_name": "Python 3",
   "language": "python",
   "name": "python3"
  },
  "language_info": {
   "codemirror_mode": {
    "name": "ipython",
    "version": 3
   },
   "file_extension": ".py",
   "mimetype": "text/x-python",
   "name": "python",
   "nbconvert_exporter": "python",
   "pygments_lexer": "ipython3",
   "version": "3.7.2"
  }
 },
 "nbformat": 4,
 "nbformat_minor": 2
}
