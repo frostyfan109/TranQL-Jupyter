{
 "cells": [
  {
   "cell_type": "code",
   "execution_count": null,
   "metadata": {},
   "outputs": [],
   "source": [
    "from tranql_jupyter.tranql_response import KnowledgeGraph"
   ]
  },
  {
   "cell_type": "code",
   "execution_count": null,
   "metadata": {},
   "outputs": [],
   "source": [
    "mock1 = KnowledgeGraph.mock1()\n",
    "mock2 = KnowledgeGraph.mock2()"
   ]
  },
  {
   "cell_type": "code",
   "execution_count": null,
   "metadata": {
    "scrolled": false
   },
   "outputs": [],
   "source": [
    "# union = mock1 + mock2\n",
    "# union.render_force_graph_2d()\n",
    "\n",
    "simple_symmetric_difference = mock1.simple_symmetric_difference(mock2)\n",
    "# simple_symmetric_difference.render_force_graph_3d()\n",
    "\n",
    "mock2.render_force_graph_2d()\n",
    "\n",
    "simple_difference = mock2 - mock1\n",
    "simple_difference.render_force_graph_2d()\n",
    "\n",
    "\n",
    "simple_intersection = mock1.simple_intersection(mock2)\n",
    "# intersection.render_force_graph_2d()"
   ]
  },
  {
   "cell_type": "code",
   "execution_count": null,
   "metadata": {},
   "outputs": [],
   "source": [
    "x = KnowledgeGraph.render_graph_grid(\n",
    "    [\n",
    "        [mock1, mock2],\n",
    "        [mock1 + mock2]\n",
    "    ],\n",
    "    KnowledgeGraph.render_force_graph_2d\n",
    ")\n",
    "from IPython.display import display, HTML\n",
    "\n",
    "ipywidgets.Text(\"<script>console.log(5);window.x=5;</script><p>test</p>\")"
   ]
  },
  {
   "cell_type": "code",
   "execution_count": null,
   "metadata": {
    "scrolled": false
   },
   "outputs": [],
   "source": [
    "import seaborn as sns\n",
    "weight = sym_diff_df.molecular_weight\n",
    "sns.distplot(weight[weight.apply(lambda x: not isinstance(x, list))].dropna())\n",
    "plt.show()"
   ]
  },
  {
   "cell_type": "code",
   "execution_count": null,
   "metadata": {},
   "outputs": [],
   "source": [
    "import seaborn as sns\n",
    "\n",
    "sns.set(style=\"ticks\", palette=\"pastel\", color_codes=True)"
   ]
  },
  {
   "cell_type": "code",
   "execution_count": null,
   "metadata": {},
   "outputs": [],
   "source": [
    "KnowledgeGraph.plot_graph_sizes(\n",
    "    (mock1, \"Mock 1\"),\n",
    "    (mock2, \"Mock 2\"),\n",
    "    (simple_symmetric_difference, \"Symmetric Difference\")\n",
    ")"
   ]
  },
  {
   "cell_type": "code",
   "execution_count": null,
   "metadata": {},
   "outputs": [],
   "source": [
    "KnowledgeGraph.plot_type_distributions(\n",
    "    (simple_symmetric_difference, \"Symmetric Difference\"),\n",
    "    (mock2, \"Mock 2\"),\n",
    "    (mock1, \"Mock 1\")\n",
    ")"
   ]
  }
 ],
 "metadata": {
  "kernelspec": {
   "display_name": "Python 3",
   "language": "python",
   "name": "python3"
  },
  "language_info": {
   "codemirror_mode": {
    "name": "ipython",
    "version": 3
   },
   "file_extension": ".py",
   "mimetype": "text/x-python",
   "name": "python",
   "nbconvert_exporter": "python",
   "pygments_lexer": "ipython3",
   "version": "3.7.2"
  }
 },
 "nbformat": 4,
 "nbformat_minor": 2
}
