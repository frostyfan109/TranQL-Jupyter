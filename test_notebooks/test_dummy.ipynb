{
 "cells": [
  {
   "cell_type": "code",
   "execution_count": 4,
   "metadata": {},
   "outputs": [],
   "source": [
    "import pandas as pd\n",
    "\n",
    "import tranql_jupyter"
   ]
  },
  {
   "cell_type": "code",
   "execution_count": 6,
   "metadata": {},
   "outputs": [
    {
     "data": {
      "text/plain": [
       "<tranql_jupyter.tranql_response.KnowledgeGraph at 0x24b876b7b38>"
      ]
     },
     "execution_count": 6,
     "metadata": {},
     "output_type": "execute_result"
    }
   ],
   "source": [
    "dummy_kg = tranql_jupyter.tranql_response.KnowledgeGraph({\n",
    "    \"nodes\": [\n",
    "        {\n",
    "            \"id\" : \"chem\"\n",
    "        },\n",
    "        {\n",
    "            \"id\" : \"gene\"\n",
    "        }\n",
    "    ],\n",
    "    \"edges\": [{\n",
    "        \"source_id\" : \"chem\",\n",
    "        \"target_id\": \"gene\",\n",
    "        \"type\": [ \"targets\" ]\n",
    "    }]\n",
    "})\n",
    "dummy_kg"
   ]
  },
  {
   "cell_type": "code",
   "execution_count": null,
   "metadata": {},
   "outputs": [],
   "source": []
  }
 ],
 "metadata": {
  "kernelspec": {
   "display_name": "Python 3",
   "language": "python",
   "name": "python3"
  },
  "language_info": {
   "codemirror_mode": {
    "name": "ipython",
    "version": 3
   },
   "file_extension": ".py",
   "mimetype": "text/x-python",
   "name": "python",
   "nbconvert_exporter": "python",
   "pygments_lexer": "ipython3",
   "version": "3.7.2"
  }
 },
 "nbformat": 4,
 "nbformat_minor": 2
}
