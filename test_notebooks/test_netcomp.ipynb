{
 "cells": [
  {
   "cell_type": "code",
   "execution_count": 1,
   "metadata": {},
   "outputs": [],
   "source": [
    "from tranql_jupyter import KnowledgeGraph"
   ]
  },
  {
   "cell_type": "code",
   "execution_count": 2,
   "metadata": {},
   "outputs": [],
   "source": [
    "mock1 = KnowledgeGraph.mock1()\n",
    "mock1.graph_name = \"Mock 1\"\n",
    "\n",
    "mock2 = KnowledgeGraph.mock2()\n",
    "mock2.graph_name = \"Mock 2\""
   ]
  },
  {
   "cell_type": "code",
   "execution_count": 3,
   "metadata": {},
   "outputs": [
    {
     "data": {
      "text/plain": [
       "487.9458886640588"
      ]
     },
     "execution_count": 3,
     "metadata": {},
     "output_type": "execute_result"
    }
   ],
   "source": [
    "mock1.deltacon0(mock2)"
   ]
  },
  {
   "cell_type": "code",
   "execution_count": 4,
   "metadata": {},
   "outputs": [
    {
     "data": {
      "text/plain": [
       "0.03340080971659921"
      ]
     },
     "execution_count": 4,
     "metadata": {},
     "output_type": "execute_result"
    }
   ],
   "source": [
    "mock1.vertex_edge_distance(mock2)"
   ]
  },
  {
   "cell_type": "code",
   "execution_count": 5,
   "metadata": {},
   "outputs": [
    {
     "data": {
      "text/plain": [
       "11.568553168895244"
      ]
     },
     "execution_count": 5,
     "metadata": {},
     "output_type": "execute_result"
    }
   ],
   "source": [
    "mock1.lambda_dist(mock2)"
   ]
  },
  {
   "cell_type": "code",
   "execution_count": 6,
   "metadata": {},
   "outputs": [
    {
     "data": {
      "text/plain": [
       "119.96548691382522"
      ]
     },
     "execution_count": 6,
     "metadata": {},
     "output_type": "execute_result"
    }
   ],
   "source": [
    "mock1.resistance_distance(mock2, renormalized=True)"
   ]
  },
  {
   "cell_type": "code",
   "execution_count": 7,
   "metadata": {},
   "outputs": [
    {
     "data": {
      "text/plain": [
       "array([[0.        , 0.25245847, 0.18601168, ..., 0.19203556, 0.36347035,\n",
       "        0.1510043 ],\n",
       "       [0.25245847, 0.        , 0.15804818, ..., 0.14867137, 0.2341848 ,\n",
       "        0.12283196],\n",
       "       [0.18601168, 0.15804818, 0.        , ..., 0.12283196, 0.17589868,\n",
       "        0.10464451],\n",
       "       ...,\n",
       "       [0.19203556, 0.14867137, 0.12283196, ..., 0.        , 0.40714743,\n",
       "        0.15804818],\n",
       "       [0.36347035, 0.2341848 , 0.17589868, ..., 0.40714743, 0.        ,\n",
       "        0.2583264 ],\n",
       "       [0.1510043 , 0.12283196, 0.10464451, ..., 0.15804818, 0.2583264 ,\n",
       "        0.        ]])"
      ]
     },
     "execution_count": 7,
     "metadata": {},
     "output_type": "execute_result"
    }
   ],
   "source": [
    "mock1.conductance_matrix()"
   ]
  },
  {
   "cell_type": "code",
   "execution_count": 8,
   "metadata": {},
   "outputs": [
    {
     "data": {
      "text/plain": [
       "matrix([[0.        , 3.64963045, 5.05896935, ..., 2.86780839, 1.19879437,\n",
       "         3.8293222 ],\n",
       "        [3.64963045, 0.        , 6.32718446, ..., 4.1060595 , 2.43722271,\n",
       "         5.06747121],\n",
       "        [5.05896935, 6.32718446, 0.        , ..., 5.51013595, 3.84129916,\n",
       "         6.47154766],\n",
       "        ...,\n",
       "        [2.86780839, 4.1060595 , 5.51013595, ..., 0.        , 2.45611276,\n",
       "         6.32718446],\n",
       "        [1.19879437, 2.43722271, 3.84129916, ..., 2.45611276, 0.        ,\n",
       "         3.87107171],\n",
       "        [3.8293222 , 5.06747121, 6.47154766, ..., 6.32718446, 3.87107171,\n",
       "         0.        ]])"
      ]
     },
     "execution_count": 8,
     "metadata": {},
     "output_type": "execute_result"
    }
   ],
   "source": [
    "mock1.resistance_matrix(check_connected=False)"
   ]
  },
  {
   "cell_type": "code",
   "execution_count": null,
   "metadata": {},
   "outputs": [],
   "source": []
  },
  {
   "cell_type": "code",
   "execution_count": null,
   "metadata": {},
   "outputs": [],
   "source": []
  }
 ],
 "metadata": {
  "kernelspec": {
   "display_name": "Python 3",
   "language": "python",
   "name": "python3"
  },
  "language_info": {
   "codemirror_mode": {
    "name": "ipython",
    "version": 3
   },
   "file_extension": ".py",
   "mimetype": "text/x-python",
   "name": "python",
   "nbconvert_exporter": "python",
   "pygments_lexer": "ipython3",
   "version": "3.7.2"
  }
 },
 "nbformat": 4,
 "nbformat_minor": 2
}
